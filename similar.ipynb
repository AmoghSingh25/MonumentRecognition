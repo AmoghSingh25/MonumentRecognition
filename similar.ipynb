{
 "cells": [
  {
   "cell_type": "code",
   "execution_count": 2,
   "metadata": {},
   "outputs": [],
   "source": [
    "import cv2\n",
    "import numpy as np\n",
    "import os\n",
    "import PIL as Image\n",
    "import matplotlib.pyplot as plt"
   ]
  },
  {
   "cell_type": "code",
   "execution_count": 3,
   "metadata": {},
   "outputs": [],
   "source": [
    "img=cv2.imread(r\"dataset\\dynasty\\Mughal\\Image_1 (2).jpg\",0)\n",
    "#cv2.imshow(\"\",img)\n",
    "#cv2.waitKey(0)\n",
    "#cv2.destroyAllWindows()"
   ]
  },
  {
   "cell_type": "code",
   "execution_count": 4,
   "metadata": {},
   "outputs": [],
   "source": [
    "def filter_match(matches):\n",
    "    good_points = []\n",
    "    ratio = 0.6\n",
    "    for m, n in matches:\n",
    "        if m.distance < ratio*n.distance:\n",
    "            good_points.append(m)\n",
    "    return good_points\n",
    "    "
   ]
  },
  {
   "cell_type": "code",
   "execution_count": 7,
   "metadata": {},
   "outputs": [],
   "source": [
    "def percentage(img,img_2):\n",
    "    sift = cv2.SIFT_create()\n",
    "    kp_1, desc_1 = sift.detectAndCompute(img, None)\n",
    "    kp_2, desc_2 = sift.detectAndCompute(img_2, None)\n",
    "    number_keypoints = 0\n",
    "    if len(kp_1) <= len(kp_2):\n",
    "        number_keypoints = len(kp_1)\n",
    "    else:\n",
    "        number_keypoints = len(kp_2)\n",
    "    #print(\"Keypoints 1ST Image: \" + str(len(kp_1)))\n",
    "    #print(\"Keypoints 2ND Image: \" + str(len(kp_2)))\n",
    "    index_params = dict(algorithm=0, trees=5)\n",
    "    search_params = dict()\n",
    "    flann = cv2.FlannBasedMatcher(index_params, search_params)\n",
    "    matches = flann.knnMatch(desc_1, desc_2, k=2)\n",
    "    good_points=filter_match(matches)\n",
    "    percent=len(good_points) / number_keypoints * 100\n",
    "    return percent\n",
    "    #result = cv2.drawMatches(img, kp_1, img_2, kp_2, good_points, None)"
   ]
  },
  {
   "cell_type": "code",
   "execution_count": 8,
   "metadata": {},
   "outputs": [
    {
     "name": "stdout",
     "output_type": "stream",
     "text": [
      "{0.19252984212552945: 'dataset\\\\dynasty\\\\Colonial\\\\Image_1 (2).jpg', 0.03594105666706601: 'dataset\\\\dynasty\\\\Kalinga\\\\Image_2 (7).jpg', 0.0762291957819845: 'dataset\\\\dynasty\\\\Colonial\\\\Image_1 (7).jpg', 0.08386246555648735: 'dataset\\\\dynasty\\\\Kalinga\\\\Image_4 (6).jpg', 0.37251655629139074: 'dataset\\\\dynasty\\\\Colonial\\\\Image_1.png', 0.5552128315854411: 'dataset\\\\dynasty\\\\Colonial\\\\Image_2 (4).jpg', 0.9683098591549295: 'dataset\\\\dynasty\\\\Colonial\\\\Image_2 (6).jpg', 0.10378827192527244: 'dataset\\\\dynasty\\\\Colonial\\\\Image_2 (7).jpg', 0.03204101249599487: 'dataset\\\\dynasty\\\\Indo-Saracenic\\\\Image_3.jpg', 1.761252446183953: 'dataset\\\\dynasty\\\\Colonial\\\\Image_3 (4).jpg', 0.1203659123736158: 'dataset\\\\dynasty\\\\Colonial\\\\Image_3 (5).jpg', 0.17133066818960593: 'dataset\\\\dynasty\\\\Indo-Saracenic\\\\Image_4.jpg', 0.48661800486618007: 'dataset\\\\dynasty\\\\Colonial\\\\Image_4 (3).jpg', 0.03061849357011635: 'dataset\\\\dynasty\\\\Colonial\\\\Image_4 (4).jpg', 0.4807692307692308: 'dataset\\\\dynasty\\\\Colonial\\\\Image_4 (6).jpg', 0.06270378730875345: 'dataset\\\\dynasty\\\\Colonial\\\\Image_4 (7).jpg', 0.1002004008016032: 'dataset\\\\dynasty\\\\Colonial\\\\Image_5 (3).jpg', 1.0655090765588004: 'dataset\\\\dynasty\\\\Colonial\\\\Image_5 (4).jpg', 0.5825242718446602: 'dataset\\\\dynasty\\\\Colonial\\\\Image_5 (5).jpg', 0.4249893752656183: 'dataset\\\\dynasty\\\\Dravidian\\\\Image_1 (2).jpg', 0.07326007326007326: 'dataset\\\\dynasty\\\\Dravidian\\\\Image_1 (3).jpg', 0.944206008583691: 'dataset\\\\dynasty\\\\Dravidian\\\\Image_1 (4).jpg', 0.3062360801781737: 'dataset\\\\dynasty\\\\Dravidian\\\\Image_1 (6).JPG', 0.9489380930863082: 'dataset\\\\dynasty\\\\Dravidian\\\\Image_1 (8).jpg', 0.2493074792243767: 'dataset\\\\dynasty\\\\Dravidian\\\\Image_1 (9).jpg', 0.05990176111177668: 'dataset\\\\dynasty\\\\Dravidian\\\\Image_4.jpeg', 0.1890359168241966: 'dataset\\\\dynasty\\\\Dravidian\\\\Image_1.jpg', 0.20461853259280913: 'dataset\\\\dynasty\\\\Dravidian\\\\Image_2 (2).jpg', 1.229256299938537: 'dataset\\\\dynasty\\\\Dravidian\\\\Image_2 (5).jpg', 1.0566762728146013: 'dataset\\\\dynasty\\\\Dravidian\\\\Image_2 (6).jpg', 0.05801585766776252: 'dataset\\\\dynasty\\\\Dravidian\\\\Image_2 (8).jpg', 0.07188211333413203: 'dataset\\\\dynasty\\\\Indo-Saracenic\\\\Image_5 (2).jpg', 0.2313284864507601: 'dataset\\\\dynasty\\\\Dravidian\\\\Image_2.jpg', 0.04330254041570439: 'dataset\\\\dynasty\\\\Dravidian\\\\Image_3 (2).jpeg', 0.3541912632821724: 'dataset\\\\dynasty\\\\Dravidian\\\\Image_3 (3).jpg', 0.9558488848429678: 'dataset\\\\dynasty\\\\Dravidian\\\\Image_3 (4).jpg', 0.15927189988623436: 'dataset\\\\dynasty\\\\Dravidian\\\\Image_3 (5).jpg', 0.04792140888942135: 'dataset\\\\dynasty\\\\Kalinga\\\\Image_2 (4).JPG', 0.06898454746136866: 'dataset\\\\dynasty\\\\Dravidian\\\\Image_3.JPG', 1.0185185185185186: 'dataset\\\\dynasty\\\\Dravidian\\\\Image_4 (2).jpg', 0.18144116122343182: 'dataset\\\\dynasty\\\\Dravidian\\\\Image_4 (6).jpg', 0.09633911368015415: 'dataset\\\\dynasty\\\\Dravidian\\\\Image_4 (8).jpg', 1.2232415902140672: 'dataset\\\\dynasty\\\\Dravidian\\\\Image_4 (9).jpg', 0.13683010262257697: 'dataset\\\\dynasty\\\\Dravidian\\\\Image_4.jpg', 0.07665772326561901: 'dataset\\\\dynasty\\\\Dravidian\\\\Image_5 (2).jpg', 0.09490667510281556: 'dataset\\\\dynasty\\\\Dravidian\\\\Image_5 (3).jpeg', 11.706349206349206: 'dataset\\\\dynasty\\\\Dravidian\\\\Image_5 (3).jpg', 0.22172949002217296: 'dataset\\\\dynasty\\\\Dravidian\\\\Image_5 (6).jpg', 0.21680216802168023: 'dataset\\\\dynasty\\\\Dravidian\\\\Image_5 (7).jpg', 0.18392012611665792: 'dataset\\\\dynasty\\\\Indo-Saracenic\\\\Image_1 (3).jpg', 0.15833521827640804: 'dataset\\\\dynasty\\\\Indo-Saracenic\\\\Image_1 (4).jpg', 0.3541703559412077: 'dataset\\\\dynasty\\\\Indo-Saracenic\\\\Image_1 (5).jpg', 0.011980352222355337: 'dataset\\\\dynasty\\\\Kalinga\\\\Image_2.jpg', 0.6053268765133172: 'dataset\\\\dynasty\\\\Indo-Saracenic\\\\Image_2 (3).jpg', 0.40691759918616477: 'dataset\\\\dynasty\\\\Indo-Saracenic\\\\Image_2 (4).jpg', 0.4784688995215311: 'dataset\\\\dynasty\\\\Indo-Saracenic\\\\Image_2 (5).jpg', 0.1899335232668566: 'dataset\\\\dynasty\\\\Indo-Saracenic\\\\Image_2 (8).jpg', 0.2768804799261652: 'dataset\\\\dynasty\\\\Indo-Saracenic\\\\Image_3 (4).jpg', 0.17125731411445697: 'dataset\\\\dynasty\\\\Indo-Saracenic\\\\Image_3 (7).jpg', 1.8669219722355195: 'dataset\\\\dynasty\\\\Indo-Saracenic\\\\Image_4 (5).jpg', 0.07485029940119761: 'dataset\\\\dynasty\\\\Indo-Saracenic\\\\Image_5 (3).jpg', 0.2448579823702253: 'dataset\\\\dynasty\\\\Indo-Saracenic\\\\Image_5.jpg', 1.8329070758738277: 'dataset\\\\dynasty\\\\Kalinga\\\\Image_1 (2).jpg', 0.023960704444710674: 'dataset\\\\dynasty\\\\Kalinga\\\\Image_4.png', 0.24057738572574178: 'dataset\\\\dynasty\\\\Kalinga\\\\Image_1 (4).jpg', 0.06621639517944643: 'dataset\\\\dynasty\\\\Kalinga\\\\Image_1 (5).jpg', 0.0958428177788427: 'dataset\\\\dynasty\\\\Kalinga\\\\Image_1 (6).jpg', 1.7029972752043598: 'dataset\\\\dynasty\\\\Kalinga\\\\Image_1 (7).jpg', 2.0325203252032518: 'dataset\\\\dynasty\\\\Kalinga\\\\Image_1.jpg', 0.08465352521465716: 'dataset\\\\dynasty\\\\Kalinga\\\\Image_2 (2).jpg', 0.4270622611822881: 'dataset\\\\dynasty\\\\Kalinga\\\\Image_2 (3).jpg', 0.3037667071688943: 'dataset\\\\dynasty\\\\Kalinga\\\\Image_2 (5).jpg', 0.24354603019970775: 'dataset\\\\dynasty\\\\Kalinga\\\\Image_3 (2).jpg', 0.08975049362771495: 'dataset\\\\dynasty\\\\Kalinga\\\\Image_3 (3).jpg', 0.42046250875963564: 'dataset\\\\dynasty\\\\Kalinga\\\\Image_3 (4).JPG', 2.191780821917808: 'dataset\\\\dynasty\\\\Kalinga\\\\Image_3 (5).jpg', 0.17303759635047977: 'dataset\\\\dynasty\\\\Kalinga\\\\Image_3.jpg', 0.14376422666826405: 'dataset\\\\dynasty\\\\Kalinga\\\\Image_4 (3).jpg', 0.0: 'dataset\\\\dynasty\\\\Kalinga\\\\Image_4 (4).jpg', 1.2448132780082988: 'dataset\\\\dynasty\\\\Kalinga\\\\Image_4.jpg', 0.07741136398823348: 'dataset\\\\dynasty\\\\Kalinga\\\\Image_5 (2).jpg', 0.2230897936419409: 'dataset\\\\dynasty\\\\Kalinga\\\\Image_5 (3).jpg', 0.4137360364087712: 'dataset\\\\dynasty\\\\Kalinga\\\\Image_5 (4).jpg', 0.7989347536617843: 'dataset\\\\dynasty\\\\Kalinga\\\\Image_5 (6).jpg', 0.0933184023889511: 'dataset\\\\dynasty\\\\Kalinga\\\\Image_5.JPG'}\n"
     ]
    }
   ],
   "source": [
    "output=\"Mughal\"\n",
    "\n",
    "\n",
    "f = \"dataset\\\\dynasty\"\n",
    "perc=dict()\n",
    "\n",
    "for cats in os.listdir(f):\n",
    "    if cats==output:\n",
    "        continue\n",
    "    path=f+\"\\\\\"+cats\n",
    "    for imgs in os.listdir(path):\n",
    "        f_img= path+\"\\\\\"+imgs\n",
    "        img_2=cv2.imread(f_img,0)\n",
    "        #print(f_img)\n",
    "        p=percentage(img,img_2)\n",
    "        perc[p]=f_img\n",
    "        #plt.imshow(img_2)\n",
    "print(perc)\n"
   ]
  },
  {
   "cell_type": "code",
   "execution_count": 9,
   "metadata": {},
   "outputs": [],
   "source": [
    "sorted_perc = sorted(perc.items(), key=lambda x:x[0],reverse=True)"
   ]
  },
  {
   "cell_type": "code",
   "execution_count": 10,
   "metadata": {},
   "outputs": [],
   "source": [
    "def showimg(img):\n",
    "    cv2.imshow(\"\",img)\n",
    "    cv2.waitKey(0)\n",
    "    cv2.destroyAllWindows()"
   ]
  },
  {
   "cell_type": "code",
   "execution_count": 11,
   "metadata": {},
   "outputs": [
    {
     "name": "stdout",
     "output_type": "stream",
     "text": [
      "11.706349206349206\n",
      "2.191780821917808\n",
      "2.0325203252032518\n"
     ]
    }
   ],
   "source": [
    "#print(sorted_perc)\n",
    "n=3\n",
    "count=0\n",
    "img=cv2.imread(r\"dataset\\dynasty\\Mughal\\Image_1 (2).jpg\")\n",
    "showimg(img)\n",
    "for tup in sorted_perc:\n",
    "    if count==n:\n",
    "        break\n",
    "    #plt.imshow(tup[1])\n",
    "    print(tup[0])\n",
    "    img=cv2.imread(tup[1])\n",
    "    showimg(img)\n",
    "    count=count+1"
   ]
  }
 ],
 "metadata": {
  "kernelspec": {
   "display_name": "Python 3 (ipykernel)",
   "language": "python",
   "name": "python3"
  },
  "language_info": {
   "codemirror_mode": {
    "name": "ipython",
    "version": 3
   },
   "file_extension": ".py",
   "mimetype": "text/x-python",
   "name": "python",
   "nbconvert_exporter": "python",
   "pygments_lexer": "ipython3",
   "version": "3.10.4"
  },
  "vscode": {
   "interpreter": {
    "hash": "d835fbe851ece11e15588070ae40a16b46fb818f3eda01a66a03bf427a958b44"
   }
  }
 },
 "nbformat": 4,
 "nbformat_minor": 2
}
